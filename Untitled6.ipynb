{
 "cells": [
  {
   "cell_type": "code",
   "execution_count": 3,
   "id": "810ecd7a",
   "metadata": {},
   "outputs": [],
   "source": [
    "import requests\n",
    "import pandas as pd\n",
    "import string\n",
    "import matplotlib.pyplot as plt"
   ]
  },
  {
   "cell_type": "code",
   "execution_count": 10,
   "id": "99242234",
   "metadata": {},
   "outputs": [],
   "source": [
    "df=pd.read_csv(\"C:/temp/LP_destinations.csv\", encoding='latin-1')"
   ]
  },
  {
   "cell_type": "code",
   "execution_count": 11,
   "id": "a5fd09a1",
   "metadata": {},
   "outputs": [],
   "source": [
    "num_of_words = df['Description'].str.split().str.len()\n",
    "df[\"num_of_words\"] = num_of_words"
   ]
  },
  {
   "cell_type": "code",
   "execution_count": 12,
   "id": "6664ed88",
   "metadata": {},
   "outputs": [
    {
     "name": "stderr",
     "output_type": "stream",
     "text": [
      "C:\\Users\\itai\\AppData\\Local\\Temp/ipykernel_30136/3864078826.py:1: FutureWarning: The default value of regex will change from True to False in a future version.\n",
      "  df['No_punct_description'] = df['Description'].str.replace(r'[^\\w\\s]', '').replace('/n','')\n"
     ]
    }
   ],
   "source": [
    "df['No_punct_description'] = df['Description'].str.replace(r'[^\\w\\s]', '').replace('/n','')"
   ]
  },
  {
   "cell_type": "code",
   "execution_count": 13,
   "id": "50f32ae6",
   "metadata": {},
   "outputs": [],
   "source": [
    "df[\"has_resturant\"] = df[\"Description\"].str.count('restaurant')"
   ]
  },
  {
   "cell_type": "code",
   "execution_count": 14,
   "id": "d4a0101f",
   "metadata": {},
   "outputs": [],
   "source": [
    "df[\"has_museums\"] = df[\"Description\"].str.count('museum')"
   ]
  },
  {
   "cell_type": "code",
   "execution_count": 15,
   "id": "9feb2821",
   "metadata": {},
   "outputs": [],
   "source": [
    "df['has_beaches'] = df[\"Description\"].str.count('beach' or 'ocean' or 'sea') "
   ]
  },
  {
   "cell_type": "code",
   "execution_count": 16,
   "id": "3d2679b5",
   "metadata": {},
   "outputs": [
    {
     "data": {
      "text/html": [
       "<div>\n",
       "<style scoped>\n",
       "    .dataframe tbody tr th:only-of-type {\n",
       "        vertical-align: middle;\n",
       "    }\n",
       "\n",
       "    .dataframe tbody tr th {\n",
       "        vertical-align: top;\n",
       "    }\n",
       "\n",
       "    .dataframe thead th {\n",
       "        text-align: right;\n",
       "    }\n",
       "</style>\n",
       "<table border=\"1\" class=\"dataframe\">\n",
       "  <thead>\n",
       "    <tr style=\"text-align: right;\">\n",
       "      <th></th>\n",
       "      <th>city</th>\n",
       "      <th>Country</th>\n",
       "      <th>Description</th>\n",
       "      <th>num_of_words</th>\n",
       "      <th>No_punct_description</th>\n",
       "      <th>has_resturant</th>\n",
       "      <th>has_museums</th>\n",
       "      <th>has_beaches</th>\n",
       "    </tr>\n",
       "  </thead>\n",
       "  <tbody>\n",
       "    <tr>\n",
       "      <th>0</th>\n",
       "      <td>Antalya</td>\n",
       "      <td>Turkey</td>\n",
       "      <td>Once seen simply as the gateway to the Turkish...</td>\n",
       "      <td>112</td>\n",
       "      <td>Once seen simply as the gateway to the Turkish...</td>\n",
       "      <td>0</td>\n",
       "      <td>1</td>\n",
       "      <td>1</td>\n",
       "    </tr>\n",
       "    <tr>\n",
       "      <th>1</th>\n",
       "      <td>Athens</td>\n",
       "      <td>Greece</td>\n",
       "      <td>With equal measures of grunge and grace, Athen...</td>\n",
       "      <td>18</td>\n",
       "      <td>With equal measures of grunge and grace Athens...</td>\n",
       "      <td>0</td>\n",
       "      <td>0</td>\n",
       "      <td>0</td>\n",
       "    </tr>\n",
       "    <tr>\n",
       "      <th>2</th>\n",
       "      <td>Ayia-napa</td>\n",
       "      <td>Cyprus</td>\n",
       "      <td>Endless blue-sky days and a coastline riddled ...</td>\n",
       "      <td>71</td>\n",
       "      <td>Endless bluesky days and a coastline riddled w...</td>\n",
       "      <td>0</td>\n",
       "      <td>0</td>\n",
       "      <td>0</td>\n",
       "    </tr>\n",
       "    <tr>\n",
       "      <th>3</th>\n",
       "      <td>Bangkok</td>\n",
       "      <td>Thailand</td>\n",
       "      <td>Same same, but different. This Thailish T-shir...</td>\n",
       "      <td>30</td>\n",
       "      <td>Same same but different This Thailish Tshirt p...</td>\n",
       "      <td>0</td>\n",
       "      <td>0</td>\n",
       "      <td>0</td>\n",
       "    </tr>\n",
       "    <tr>\n",
       "      <th>4</th>\n",
       "      <td>Barcelona</td>\n",
       "      <td>Spain</td>\n",
       "      <td>Barcelona is an enchanting seaside city with b...</td>\n",
       "      <td>18</td>\n",
       "      <td>Barcelona is an enchanting seaside city with b...</td>\n",
       "      <td>0</td>\n",
       "      <td>0</td>\n",
       "      <td>0</td>\n",
       "    </tr>\n",
       "    <tr>\n",
       "      <th>...</th>\n",
       "      <td>...</td>\n",
       "      <td>...</td>\n",
       "      <td>...</td>\n",
       "      <td>...</td>\n",
       "      <td>...</td>\n",
       "      <td>...</td>\n",
       "      <td>...</td>\n",
       "      <td>...</td>\n",
       "    </tr>\n",
       "    <tr>\n",
       "      <th>71</th>\n",
       "      <td>Venice</td>\n",
       "      <td>Italy</td>\n",
       "      <td>Imagine the audacity of building a city of mar...</td>\n",
       "      <td>20</td>\n",
       "      <td>Imagine the audacity of building a city of mar...</td>\n",
       "      <td>0</td>\n",
       "      <td>0</td>\n",
       "      <td>0</td>\n",
       "    </tr>\n",
       "    <tr>\n",
       "      <th>72</th>\n",
       "      <td>Vienna</td>\n",
       "      <td>Austria</td>\n",
       "      <td>Baroque streetscapes and imperial palaces set ...</td>\n",
       "      <td>24</td>\n",
       "      <td>Baroque streetscapes and imperial palaces set ...</td>\n",
       "      <td>0</td>\n",
       "      <td>0</td>\n",
       "      <td>0</td>\n",
       "    </tr>\n",
       "    <tr>\n",
       "      <th>73</th>\n",
       "      <td>Warsaw</td>\n",
       "      <td>Poland</td>\n",
       "      <td>A phoenix arisen from the ashes, Poland's capi...</td>\n",
       "      <td>22</td>\n",
       "      <td>A phoenix arisen from the ashes Polands capita...</td>\n",
       "      <td>0</td>\n",
       "      <td>0</td>\n",
       "      <td>0</td>\n",
       "    </tr>\n",
       "    <tr>\n",
       "      <th>74</th>\n",
       "      <td>Zakynthos</td>\n",
       "      <td>Greece</td>\n",
       "      <td>Zakynthos, also known by its Italian name Zant...</td>\n",
       "      <td>118</td>\n",
       "      <td>Zakynthos also known by its Italian name Zante...</td>\n",
       "      <td>0</td>\n",
       "      <td>0</td>\n",
       "      <td>0</td>\n",
       "    </tr>\n",
       "    <tr>\n",
       "      <th>75</th>\n",
       "      <td>Zurich</td>\n",
       "      <td>Switzerland</td>\n",
       "      <td>Culturally vibrant, efficiently run and attrac...</td>\n",
       "      <td>67</td>\n",
       "      <td>Culturally vibrant efficiently run and attract...</td>\n",
       "      <td>0</td>\n",
       "      <td>0</td>\n",
       "      <td>0</td>\n",
       "    </tr>\n",
       "  </tbody>\n",
       "</table>\n",
       "<p>76 rows × 8 columns</p>\n",
       "</div>"
      ],
      "text/plain": [
       "         city      Country                                        Description  \\\n",
       "0     Antalya       Turkey  Once seen simply as the gateway to the Turkish...   \n",
       "1      Athens       Greece  With equal measures of grunge and grace, Athen...   \n",
       "2   Ayia-napa       Cyprus  Endless blue-sky days and a coastline riddled ...   \n",
       "3     Bangkok     Thailand  Same same, but different. This Thailish T-shir...   \n",
       "4   Barcelona        Spain  Barcelona is an enchanting seaside city with b...   \n",
       "..        ...          ...                                                ...   \n",
       "71     Venice        Italy  Imagine the audacity of building a city of mar...   \n",
       "72     Vienna      Austria  Baroque streetscapes and imperial palaces set ...   \n",
       "73     Warsaw       Poland  A phoenix arisen from the ashes, Poland's capi...   \n",
       "74  Zakynthos       Greece  Zakynthos, also known by its Italian name Zant...   \n",
       "75     Zurich  Switzerland  Culturally vibrant, efficiently run and attrac...   \n",
       "\n",
       "    num_of_words                               No_punct_description  \\\n",
       "0            112  Once seen simply as the gateway to the Turkish...   \n",
       "1             18  With equal measures of grunge and grace Athens...   \n",
       "2             71  Endless bluesky days and a coastline riddled w...   \n",
       "3             30  Same same but different This Thailish Tshirt p...   \n",
       "4             18  Barcelona is an enchanting seaside city with b...   \n",
       "..           ...                                                ...   \n",
       "71            20  Imagine the audacity of building a city of mar...   \n",
       "72            24  Baroque streetscapes and imperial palaces set ...   \n",
       "73            22  A phoenix arisen from the ashes Polands capita...   \n",
       "74           118  Zakynthos also known by its Italian name Zante...   \n",
       "75            67  Culturally vibrant efficiently run and attract...   \n",
       "\n",
       "    has_resturant  has_museums  has_beaches  \n",
       "0               0            1            1  \n",
       "1               0            0            0  \n",
       "2               0            0            0  \n",
       "3               0            0            0  \n",
       "4               0            0            0  \n",
       "..            ...          ...          ...  \n",
       "71              0            0            0  \n",
       "72              0            0            0  \n",
       "73              0            0            0  \n",
       "74              0            0            0  \n",
       "75              0            0            0  \n",
       "\n",
       "[76 rows x 8 columns]"
      ]
     },
     "execution_count": 16,
     "metadata": {},
     "output_type": "execute_result"
    }
   ],
   "source": [
    "df"
   ]
  },
  {
   "cell_type": "code",
   "execution_count": 52,
   "id": "96d85cc3",
   "metadata": {},
   "outputs": [
    {
     "name": "stdout",
     "output_type": "stream",
     "text": [
      "49.14473684210526\n"
     ]
    }
   ],
   "source": [
    "print(df['num_of_words'].mean())"
   ]
  },
  {
   "cell_type": "code",
   "execution_count": 65,
   "id": "432e2c65",
   "metadata": {},
   "outputs": [
    {
     "name": "stdout",
     "output_type": "stream",
     "text": [
      "Sofia\n"
     ]
    }
   ],
   "source": [
    "max = df['num_of_words'].max()\n",
    "for i in range(len(df)):\n",
    "    if df['num_of_words'][i] == max:\n",
    "        print(df['city'][i])"
   ]
  },
  {
   "cell_type": "code",
   "execution_count": 12,
   "id": "581e02c5",
   "metadata": {},
   "outputs": [
    {
     "data": {
      "image/png": "[encoded data removed]",
      "text/plain": [
       "<Figure size 432x288 with 1 Axes>"
      ]
     },
     "metadata": {
      "needs_background": "light"
     },
     "output_type": "display_data"
    }
   ],
   "source": [
    "plt.hist(df['num_of_words'])\n",
    "plt.show() "
   ]
  },
  {
   "cell_type": "code",
   "execution_count": 17,
   "id": "9ebfef8a",
   "metadata": {},
   "outputs": [
    {
     "data": {
      "image/png": "[encoded data removed]",
      "text/plain": [
       "<Figure size 432x288 with 1 Axes>"
      ]
     },
     "metadata": {
      "needs_background": "light"
     },
     "output_type": "display_data"
    }
   ],
   "source": [
    "plt.scatter(df['has_beaches'], df['has_resturant'], c =\"blue\")\n",
    "plt.xlabel(\"number of beaches\")\n",
    "plt.ylabel(\"number of resturants\")\n",
    "plt.show()"
   ]
  },
  {
   "cell_type": "code",
   "execution_count": 18,
   "id": "5ee12e55",
   "metadata": {},
   "outputs": [
    {
     "data": {
      "image/png": "[encoded data removed]",
      "text/plain": [
       "<Figure size 432x288 with 1 Axes>"
      ]
     },
     "metadata": {
      "needs_background": "light"
     },
     "output_type": "display_data"
    }
   ],
   "source": [
    "plt.scatter(df['has_museums'], df['has_beaches'], c =\"blue\")\n",
    "plt.xlabel(\"number of beaches\")\n",
    "plt.ylabel(\"number of museums\")\n",
    "plt.show()"
   ]
  },
  {
   "cell_type": "code",
   "execution_count": null,
   "id": "f3e5f48c",
   "metadata": {},
   "outputs": [],
   "source": []
  }
 ],
 "metadata": {
  "kernelspec": {
   "display_name": "Python 3 (ipykernel)",
   "language": "python",
   "name": "python3"
  },
  "language_info": {
   "codemirror_mode": {
    "name": "ipython",
    "version": 3
   },
   "file_extension": ".py",
   "mimetype": "text/x-python",
   "name": "python",
   "nbconvert_exporter": "python",
   "pygments_lexer": "ipython3",
   "version": "3.9.7"
  }
 },
 "nbformat": 4,
 "nbformat_minor": 5
}
